{
  "nbformat": 4,
  "nbformat_minor": 0,
  "metadata": {
    "colab": {
      "name": "loan prediction ml model.ipynb",
      "provenance": []
    },
    "kernelspec": {
      "name": "python3",
      "display_name": "Python 3"
    },
    "language_info": {
      "name": "python"
    }
  },
  "cells": [
    {
      "cell_type": "code",
      "metadata": {
        "id": "aDOSXostrF49",
        "colab": {
          "base_uri": "https://localhost:8080/"
        },
        "outputId": "ff2f7af6-3a90-40f7-c0ea-c5d2dc1f7da1"
      },
      "source": [
        "#import all required library\n",
        "import pandas as pd\n",
        "import numpy as np\n",
        "from sklearn.model_selection import train_test_split\n",
        "from sklearn.metrics import accuracy_score,confusion_matrix\n",
        "from imblearn.over_sampling import SMOTE\n",
        "from sklearn.preprocessing import MinMaxScaler\n",
        "import warnings\n",
        "from collections import Counter\n",
        "warnings.filterwarnings('ignore')\n",
        "import seaborn as sns\n",
        "import matplotlib.pyplot as plt\n",
        "from keras import Sequential\n",
        "from keras.layers import Dense\n"
      ],
      "execution_count": null,
      "outputs": [
        {
          "output_type": "stream",
          "text": [
            "/usr/local/lib/python3.7/dist-packages/sklearn/externals/six.py:31: FutureWarning: The module is deprecated in version 0.21 and will be removed in version 0.23 since we've dropped support for Python 2.7. Please rely on the official version of six (https://pypi.org/project/six/).\n",
            "  \"(https://pypi.org/project/six/).\", FutureWarning)\n",
            "/usr/local/lib/python3.7/dist-packages/sklearn/utils/deprecation.py:144: FutureWarning: The sklearn.neighbors.base module is  deprecated in version 0.22 and will be removed in version 0.24. The corresponding classes / functions should instead be imported from sklearn.neighbors. Anything that cannot be imported from sklearn.neighbors is now part of the private API.\n",
            "  warnings.warn(message, FutureWarning)\n"
          ],
          "name": "stderr"
        }
      ]
    },
    {
      "cell_type": "code",
      "metadata": {
        "colab": {
          "base_uri": "https://localhost:8080/"
        },
        "id": "sOB_qOQausZb",
        "outputId": "9b67fda3-5d88-4225-cee8-85d0e99c6e3c"
      },
      "source": [
        "url = 'https://raw.githubusercontent.com/arpit1012/MLAPLI/master/bankloan.csv'\n",
        "df = pd.read_csv(url)\n",
        "df=df.dropna()\n",
        "df.isna().any()\n",
        "df=df.drop('Loan_ID',axis=1)\n",
        "df['LoanAmount']=(df['LoanAmount']*1000).astype(int)\n",
        "Counter(df['Loan_Status'])\n",
        "#data is not too much imbalanced but using smote to convert to balanced increases the accurarcy"
      ],
      "execution_count": null,
      "outputs": [
        {
          "output_type": "execute_result",
          "data": {
            "text/plain": [
              "Counter({'N': 148, 'Y': 332})"
            ]
          },
          "metadata": {
            "tags": []
          },
          "execution_count": 2
        }
      ]
    },
    {
      "cell_type": "code",
      "metadata": {
        "id": "AM6IgFeKrMaE"
      },
      "source": [
        "pre_y=df['Loan_Status']\n",
        "pre_x=df.drop('Loan_Status',axis=1)\n",
        "#one hot encodering\n",
        "dm_x=pd.get_dummies(pre_x)\n",
        "dm_y=pre_y.map(dict(Y=1,N=0))"
      ],
      "execution_count": null,
      "outputs": []
    },
    {
      "cell_type": "code",
      "metadata": {
        "id": "0A5CKsDEDK0v"
      },
      "source": [
        ""
      ],
      "execution_count": null,
      "outputs": []
    },
    {
      "cell_type": "code",
      "metadata": {
        "id": "vggD0hm1rMjp"
      },
      "source": [
        "#run smote sampling method\n",
        "#oversampling means increase the minority to create new sample that could match up to the length of majority\n",
        "\n",
        "smote=SMOTE(ratio='minority')\n",
        "X1,y=smote.fit_sample(dm_x,dm_y)\n",
        "\n"
      ],
      "execution_count": null,
      "outputs": []
    },
    {
      "cell_type": "code",
      "metadata": {
        "colab": {
          "base_uri": "https://localhost:8080/",
          "height": 417
        },
        "id": "WbCx8xTrce7q",
        "outputId": "4d9e4a06-4cc1-4f64-d82e-57d3554648d0"
      },
      "source": [
        "pd.DataFrame(X_test)"
      ],
      "execution_count": null,
      "outputs": [
        {
          "output_type": "execute_result",
          "data": {
            "text/html": [
              "<div>\n",
              "<style scoped>\n",
              "    .dataframe tbody tr th:only-of-type {\n",
              "        vertical-align: middle;\n",
              "    }\n",
              "\n",
              "    .dataframe tbody tr th {\n",
              "        vertical-align: top;\n",
              "    }\n",
              "\n",
              "    .dataframe thead th {\n",
              "        text-align: right;\n",
              "    }\n",
              "</style>\n",
              "<table border=\"1\" class=\"dataframe\">\n",
              "  <thead>\n",
              "    <tr style=\"text-align: right;\">\n",
              "      <th></th>\n",
              "      <th>0</th>\n",
              "      <th>1</th>\n",
              "      <th>2</th>\n",
              "      <th>3</th>\n",
              "      <th>4</th>\n",
              "      <th>5</th>\n",
              "      <th>6</th>\n",
              "      <th>7</th>\n",
              "      <th>8</th>\n",
              "      <th>9</th>\n",
              "      <th>10</th>\n",
              "      <th>11</th>\n",
              "      <th>12</th>\n",
              "      <th>13</th>\n",
              "      <th>14</th>\n",
              "      <th>15</th>\n",
              "      <th>16</th>\n",
              "    </tr>\n",
              "  </thead>\n",
              "  <tbody>\n",
              "    <tr>\n",
              "      <th>0</th>\n",
              "      <td>0.000000</td>\n",
              "      <td>0.056895</td>\n",
              "      <td>0.068948</td>\n",
              "      <td>0.204738</td>\n",
              "      <td>0.72973</td>\n",
              "      <td>1.000000</td>\n",
              "      <td>0.0</td>\n",
              "      <td>1.0</td>\n",
              "      <td>0.0</td>\n",
              "      <td>1.0</td>\n",
              "      <td>1.0</td>\n",
              "      <td>0.0</td>\n",
              "      <td>1.0</td>\n",
              "      <td>0.0</td>\n",
              "      <td>0.0</td>\n",
              "      <td>0.000000</td>\n",
              "      <td>1.000000</td>\n",
              "    </tr>\n",
              "    <tr>\n",
              "      <th>1</th>\n",
              "      <td>0.000000</td>\n",
              "      <td>0.242177</td>\n",
              "      <td>0.155628</td>\n",
              "      <td>0.949239</td>\n",
              "      <td>0.72973</td>\n",
              "      <td>1.000000</td>\n",
              "      <td>0.0</td>\n",
              "      <td>1.0</td>\n",
              "      <td>0.0</td>\n",
              "      <td>1.0</td>\n",
              "      <td>1.0</td>\n",
              "      <td>0.0</td>\n",
              "      <td>1.0</td>\n",
              "      <td>0.0</td>\n",
              "      <td>1.0</td>\n",
              "      <td>0.000000</td>\n",
              "      <td>0.000000</td>\n",
              "    </tr>\n",
              "    <tr>\n",
              "      <th>2</th>\n",
              "      <td>0.666667</td>\n",
              "      <td>0.047458</td>\n",
              "      <td>0.041700</td>\n",
              "      <td>0.250423</td>\n",
              "      <td>0.72973</td>\n",
              "      <td>1.000000</td>\n",
              "      <td>0.0</td>\n",
              "      <td>1.0</td>\n",
              "      <td>0.0</td>\n",
              "      <td>1.0</td>\n",
              "      <td>0.0</td>\n",
              "      <td>1.0</td>\n",
              "      <td>1.0</td>\n",
              "      <td>0.0</td>\n",
              "      <td>1.0</td>\n",
              "      <td>0.000000</td>\n",
              "      <td>0.000000</td>\n",
              "    </tr>\n",
              "    <tr>\n",
              "      <th>3</th>\n",
              "      <td>0.000000</td>\n",
              "      <td>0.043958</td>\n",
              "      <td>0.059107</td>\n",
              "      <td>0.187817</td>\n",
              "      <td>0.72973</td>\n",
              "      <td>1.000000</td>\n",
              "      <td>0.0</td>\n",
              "      <td>1.0</td>\n",
              "      <td>0.0</td>\n",
              "      <td>1.0</td>\n",
              "      <td>1.0</td>\n",
              "      <td>0.0</td>\n",
              "      <td>1.0</td>\n",
              "      <td>0.0</td>\n",
              "      <td>1.0</td>\n",
              "      <td>0.000000</td>\n",
              "      <td>0.000000</td>\n",
              "    </tr>\n",
              "    <tr>\n",
              "      <th>4</th>\n",
              "      <td>0.000000</td>\n",
              "      <td>0.049845</td>\n",
              "      <td>0.068150</td>\n",
              "      <td>0.292724</td>\n",
              "      <td>0.72973</td>\n",
              "      <td>1.000000</td>\n",
              "      <td>1.0</td>\n",
              "      <td>0.0</td>\n",
              "      <td>0.0</td>\n",
              "      <td>1.0</td>\n",
              "      <td>1.0</td>\n",
              "      <td>0.0</td>\n",
              "      <td>1.0</td>\n",
              "      <td>0.0</td>\n",
              "      <td>0.0</td>\n",
              "      <td>1.000000</td>\n",
              "      <td>0.000000</td>\n",
              "    </tr>\n",
              "    <tr>\n",
              "      <th>...</th>\n",
              "      <td>...</td>\n",
              "      <td>...</td>\n",
              "      <td>...</td>\n",
              "      <td>...</td>\n",
              "      <td>...</td>\n",
              "      <td>...</td>\n",
              "      <td>...</td>\n",
              "      <td>...</td>\n",
              "      <td>...</td>\n",
              "      <td>...</td>\n",
              "      <td>...</td>\n",
              "      <td>...</td>\n",
              "      <td>...</td>\n",
              "      <td>...</td>\n",
              "      <td>...</td>\n",
              "      <td>...</td>\n",
              "      <td>...</td>\n",
              "    </tr>\n",
              "    <tr>\n",
              "      <th>128</th>\n",
              "      <td>0.274519</td>\n",
              "      <td>0.038069</td>\n",
              "      <td>0.076264</td>\n",
              "      <td>0.273315</td>\n",
              "      <td>0.72973</td>\n",
              "      <td>1.000000</td>\n",
              "      <td>0.0</td>\n",
              "      <td>1.0</td>\n",
              "      <td>0.0</td>\n",
              "      <td>1.0</td>\n",
              "      <td>1.0</td>\n",
              "      <td>0.0</td>\n",
              "      <td>1.0</td>\n",
              "      <td>0.0</td>\n",
              "      <td>0.0</td>\n",
              "      <td>0.823558</td>\n",
              "      <td>0.176442</td>\n",
              "    </tr>\n",
              "    <tr>\n",
              "      <th>129</th>\n",
              "      <td>0.000000</td>\n",
              "      <td>0.138565</td>\n",
              "      <td>0.000000</td>\n",
              "      <td>0.396362</td>\n",
              "      <td>0.72973</td>\n",
              "      <td>0.625066</td>\n",
              "      <td>0.0</td>\n",
              "      <td>1.0</td>\n",
              "      <td>1.0</td>\n",
              "      <td>0.0</td>\n",
              "      <td>1.0</td>\n",
              "      <td>0.0</td>\n",
              "      <td>1.0</td>\n",
              "      <td>0.0</td>\n",
              "      <td>0.0</td>\n",
              "      <td>0.374934</td>\n",
              "      <td>0.625066</td>\n",
              "    </tr>\n",
              "    <tr>\n",
              "      <th>130</th>\n",
              "      <td>1.000000</td>\n",
              "      <td>0.040198</td>\n",
              "      <td>0.073884</td>\n",
              "      <td>0.192893</td>\n",
              "      <td>0.72973</td>\n",
              "      <td>0.000000</td>\n",
              "      <td>0.0</td>\n",
              "      <td>1.0</td>\n",
              "      <td>0.0</td>\n",
              "      <td>1.0</td>\n",
              "      <td>1.0</td>\n",
              "      <td>0.0</td>\n",
              "      <td>1.0</td>\n",
              "      <td>0.0</td>\n",
              "      <td>1.0</td>\n",
              "      <td>0.000000</td>\n",
              "      <td>0.000000</td>\n",
              "    </tr>\n",
              "    <tr>\n",
              "      <th>131</th>\n",
              "      <td>0.000000</td>\n",
              "      <td>0.051738</td>\n",
              "      <td>0.072435</td>\n",
              "      <td>0.170897</td>\n",
              "      <td>0.72973</td>\n",
              "      <td>1.000000</td>\n",
              "      <td>1.0</td>\n",
              "      <td>0.0</td>\n",
              "      <td>0.0</td>\n",
              "      <td>1.0</td>\n",
              "      <td>1.0</td>\n",
              "      <td>0.0</td>\n",
              "      <td>1.0</td>\n",
              "      <td>0.0</td>\n",
              "      <td>0.0</td>\n",
              "      <td>0.000000</td>\n",
              "      <td>1.000000</td>\n",
              "    </tr>\n",
              "    <tr>\n",
              "      <th>132</th>\n",
              "      <td>1.000000</td>\n",
              "      <td>0.051738</td>\n",
              "      <td>0.053521</td>\n",
              "      <td>0.255499</td>\n",
              "      <td>0.72973</td>\n",
              "      <td>0.000000</td>\n",
              "      <td>0.0</td>\n",
              "      <td>1.0</td>\n",
              "      <td>0.0</td>\n",
              "      <td>1.0</td>\n",
              "      <td>1.0</td>\n",
              "      <td>0.0</td>\n",
              "      <td>1.0</td>\n",
              "      <td>0.0</td>\n",
              "      <td>0.0</td>\n",
              "      <td>0.000000</td>\n",
              "      <td>1.000000</td>\n",
              "    </tr>\n",
              "  </tbody>\n",
              "</table>\n",
              "<p>133 rows × 17 columns</p>\n",
              "</div>"
            ],
            "text/plain": [
              "           0         1         2         3   ...   13   14        15        16\n",
              "0    0.000000  0.056895  0.068948  0.204738  ...  0.0  0.0  0.000000  1.000000\n",
              "1    0.000000  0.242177  0.155628  0.949239  ...  0.0  1.0  0.000000  0.000000\n",
              "2    0.666667  0.047458  0.041700  0.250423  ...  0.0  1.0  0.000000  0.000000\n",
              "3    0.000000  0.043958  0.059107  0.187817  ...  0.0  1.0  0.000000  0.000000\n",
              "4    0.000000  0.049845  0.068150  0.292724  ...  0.0  0.0  1.000000  0.000000\n",
              "..        ...       ...       ...       ...  ...  ...  ...       ...       ...\n",
              "128  0.274519  0.038069  0.076264  0.273315  ...  0.0  0.0  0.823558  0.176442\n",
              "129  0.000000  0.138565  0.000000  0.396362  ...  0.0  0.0  0.374934  0.625066\n",
              "130  1.000000  0.040198  0.073884  0.192893  ...  0.0  1.0  0.000000  0.000000\n",
              "131  0.000000  0.051738  0.072435  0.170897  ...  0.0  0.0  0.000000  1.000000\n",
              "132  1.000000  0.051738  0.053521  0.255499  ...  0.0  0.0  0.000000  1.000000\n",
              "\n",
              "[133 rows x 17 columns]"
            ]
          },
          "metadata": {
            "tags": []
          },
          "execution_count": 24
        }
      ]
    },
    {
      "cell_type": "code",
      "metadata": {
        "colab": {
          "base_uri": "https://localhost:8080/",
          "height": 417
        },
        "id": "xoPTQiezawOF",
        "outputId": "1afbaf59-f5e0-4016-c3c6-3bde1215c58c"
      },
      "source": [
        "X__=sc.inverse_transform(X_test)\n",
        "pd.DataFrame(X__)"
      ],
      "execution_count": null,
      "outputs": [
        {
          "output_type": "execute_result",
          "data": {
            "text/html": [
              "<div>\n",
              "<style scoped>\n",
              "    .dataframe tbody tr th:only-of-type {\n",
              "        vertical-align: middle;\n",
              "    }\n",
              "\n",
              "    .dataframe tbody tr th {\n",
              "        vertical-align: top;\n",
              "    }\n",
              "\n",
              "    .dataframe thead th {\n",
              "        text-align: right;\n",
              "    }\n",
              "</style>\n",
              "<table border=\"1\" class=\"dataframe\">\n",
              "  <thead>\n",
              "    <tr style=\"text-align: right;\">\n",
              "      <th></th>\n",
              "      <th>0</th>\n",
              "      <th>1</th>\n",
              "      <th>2</th>\n",
              "      <th>3</th>\n",
              "      <th>4</th>\n",
              "      <th>5</th>\n",
              "      <th>6</th>\n",
              "      <th>7</th>\n",
              "      <th>8</th>\n",
              "      <th>9</th>\n",
              "      <th>10</th>\n",
              "      <th>11</th>\n",
              "      <th>12</th>\n",
              "      <th>13</th>\n",
              "      <th>14</th>\n",
              "      <th>15</th>\n",
              "      <th>16</th>\n",
              "    </tr>\n",
              "  </thead>\n",
              "  <tbody>\n",
              "    <tr>\n",
              "      <th>0</th>\n",
              "      <td>0.000000</td>\n",
              "      <td>4750.000000</td>\n",
              "      <td>2333.000000</td>\n",
              "      <td>130000.000000</td>\n",
              "      <td>360.0</td>\n",
              "      <td>1.000000</td>\n",
              "      <td>0.0</td>\n",
              "      <td>1.0</td>\n",
              "      <td>0.0</td>\n",
              "      <td>1.0</td>\n",
              "      <td>1.0</td>\n",
              "      <td>0.0</td>\n",
              "      <td>1.0</td>\n",
              "      <td>0.0</td>\n",
              "      <td>0.0</td>\n",
              "      <td>0.000000</td>\n",
              "      <td>1.000000</td>\n",
              "    </tr>\n",
              "    <tr>\n",
              "      <th>1</th>\n",
              "      <td>0.000000</td>\n",
              "      <td>19730.000000</td>\n",
              "      <td>5266.000000</td>\n",
              "      <td>570000.000000</td>\n",
              "      <td>360.0</td>\n",
              "      <td>1.000000</td>\n",
              "      <td>0.0</td>\n",
              "      <td>1.0</td>\n",
              "      <td>0.0</td>\n",
              "      <td>1.0</td>\n",
              "      <td>1.0</td>\n",
              "      <td>0.0</td>\n",
              "      <td>1.0</td>\n",
              "      <td>0.0</td>\n",
              "      <td>1.0</td>\n",
              "      <td>0.000000</td>\n",
              "      <td>0.000000</td>\n",
              "    </tr>\n",
              "    <tr>\n",
              "      <th>2</th>\n",
              "      <td>2.000000</td>\n",
              "      <td>3987.000000</td>\n",
              "      <td>1411.000000</td>\n",
              "      <td>157000.000000</td>\n",
              "      <td>360.0</td>\n",
              "      <td>1.000000</td>\n",
              "      <td>0.0</td>\n",
              "      <td>1.0</td>\n",
              "      <td>0.0</td>\n",
              "      <td>1.0</td>\n",
              "      <td>0.0</td>\n",
              "      <td>1.0</td>\n",
              "      <td>1.0</td>\n",
              "      <td>0.0</td>\n",
              "      <td>1.0</td>\n",
              "      <td>0.000000</td>\n",
              "      <td>0.000000</td>\n",
              "    </tr>\n",
              "    <tr>\n",
              "      <th>3</th>\n",
              "      <td>0.000000</td>\n",
              "      <td>3704.000000</td>\n",
              "      <td>2000.000000</td>\n",
              "      <td>120000.000000</td>\n",
              "      <td>360.0</td>\n",
              "      <td>1.000000</td>\n",
              "      <td>0.0</td>\n",
              "      <td>1.0</td>\n",
              "      <td>0.0</td>\n",
              "      <td>1.0</td>\n",
              "      <td>1.0</td>\n",
              "      <td>0.0</td>\n",
              "      <td>1.0</td>\n",
              "      <td>0.0</td>\n",
              "      <td>1.0</td>\n",
              "      <td>0.000000</td>\n",
              "      <td>0.000000</td>\n",
              "    </tr>\n",
              "    <tr>\n",
              "      <th>4</th>\n",
              "      <td>0.000000</td>\n",
              "      <td>4180.000000</td>\n",
              "      <td>2306.000000</td>\n",
              "      <td>182000.000000</td>\n",
              "      <td>360.0</td>\n",
              "      <td>1.000000</td>\n",
              "      <td>1.0</td>\n",
              "      <td>0.0</td>\n",
              "      <td>0.0</td>\n",
              "      <td>1.0</td>\n",
              "      <td>1.0</td>\n",
              "      <td>0.0</td>\n",
              "      <td>1.0</td>\n",
              "      <td>0.0</td>\n",
              "      <td>0.0</td>\n",
              "      <td>1.000000</td>\n",
              "      <td>0.000000</td>\n",
              "    </tr>\n",
              "    <tr>\n",
              "      <th>...</th>\n",
              "      <td>...</td>\n",
              "      <td>...</td>\n",
              "      <td>...</td>\n",
              "      <td>...</td>\n",
              "      <td>...</td>\n",
              "      <td>...</td>\n",
              "      <td>...</td>\n",
              "      <td>...</td>\n",
              "      <td>...</td>\n",
              "      <td>...</td>\n",
              "      <td>...</td>\n",
              "      <td>...</td>\n",
              "      <td>...</td>\n",
              "      <td>...</td>\n",
              "      <td>...</td>\n",
              "      <td>...</td>\n",
              "      <td>...</td>\n",
              "    </tr>\n",
              "    <tr>\n",
              "      <th>128</th>\n",
              "      <td>0.823558</td>\n",
              "      <td>3227.865830</td>\n",
              "      <td>2580.529809</td>\n",
              "      <td>170529.326743</td>\n",
              "      <td>360.0</td>\n",
              "      <td>1.000000</td>\n",
              "      <td>0.0</td>\n",
              "      <td>1.0</td>\n",
              "      <td>0.0</td>\n",
              "      <td>1.0</td>\n",
              "      <td>1.0</td>\n",
              "      <td>0.0</td>\n",
              "      <td>1.0</td>\n",
              "      <td>0.0</td>\n",
              "      <td>0.0</td>\n",
              "      <td>0.823558</td>\n",
              "      <td>0.176442</td>\n",
              "    </tr>\n",
              "    <tr>\n",
              "      <th>129</th>\n",
              "      <td>0.000000</td>\n",
              "      <td>11352.990282</td>\n",
              "      <td>0.000000</td>\n",
              "      <td>243250.131911</td>\n",
              "      <td>360.0</td>\n",
              "      <td>0.625066</td>\n",
              "      <td>0.0</td>\n",
              "      <td>1.0</td>\n",
              "      <td>1.0</td>\n",
              "      <td>0.0</td>\n",
              "      <td>1.0</td>\n",
              "      <td>0.0</td>\n",
              "      <td>1.0</td>\n",
              "      <td>0.0</td>\n",
              "      <td>0.0</td>\n",
              "      <td>0.374934</td>\n",
              "      <td>0.625066</td>\n",
              "    </tr>\n",
              "    <tr>\n",
              "      <th>130</th>\n",
              "      <td>3.000000</td>\n",
              "      <td>3400.000000</td>\n",
              "      <td>2500.000000</td>\n",
              "      <td>123000.000000</td>\n",
              "      <td>360.0</td>\n",
              "      <td>0.000000</td>\n",
              "      <td>0.0</td>\n",
              "      <td>1.0</td>\n",
              "      <td>0.0</td>\n",
              "      <td>1.0</td>\n",
              "      <td>1.0</td>\n",
              "      <td>0.0</td>\n",
              "      <td>1.0</td>\n",
              "      <td>0.0</td>\n",
              "      <td>1.0</td>\n",
              "      <td>0.000000</td>\n",
              "      <td>0.000000</td>\n",
              "    </tr>\n",
              "    <tr>\n",
              "      <th>131</th>\n",
              "      <td>0.000000</td>\n",
              "      <td>4333.000000</td>\n",
              "      <td>2451.000000</td>\n",
              "      <td>110000.000000</td>\n",
              "      <td>360.0</td>\n",
              "      <td>1.000000</td>\n",
              "      <td>1.0</td>\n",
              "      <td>0.0</td>\n",
              "      <td>0.0</td>\n",
              "      <td>1.0</td>\n",
              "      <td>1.0</td>\n",
              "      <td>0.0</td>\n",
              "      <td>1.0</td>\n",
              "      <td>0.0</td>\n",
              "      <td>0.0</td>\n",
              "      <td>0.000000</td>\n",
              "      <td>1.000000</td>\n",
              "    </tr>\n",
              "    <tr>\n",
              "      <th>132</th>\n",
              "      <td>3.000000</td>\n",
              "      <td>4333.000000</td>\n",
              "      <td>1811.000000</td>\n",
              "      <td>160000.000000</td>\n",
              "      <td>360.0</td>\n",
              "      <td>0.000000</td>\n",
              "      <td>0.0</td>\n",
              "      <td>1.0</td>\n",
              "      <td>0.0</td>\n",
              "      <td>1.0</td>\n",
              "      <td>1.0</td>\n",
              "      <td>0.0</td>\n",
              "      <td>1.0</td>\n",
              "      <td>0.0</td>\n",
              "      <td>0.0</td>\n",
              "      <td>0.000000</td>\n",
              "      <td>1.000000</td>\n",
              "    </tr>\n",
              "  </tbody>\n",
              "</table>\n",
              "<p>133 rows × 17 columns</p>\n",
              "</div>"
            ],
            "text/plain": [
              "           0             1            2   ...   14        15        16\n",
              "0    0.000000   4750.000000  2333.000000  ...  0.0  0.000000  1.000000\n",
              "1    0.000000  19730.000000  5266.000000  ...  1.0  0.000000  0.000000\n",
              "2    2.000000   3987.000000  1411.000000  ...  1.0  0.000000  0.000000\n",
              "3    0.000000   3704.000000  2000.000000  ...  1.0  0.000000  0.000000\n",
              "4    0.000000   4180.000000  2306.000000  ...  0.0  1.000000  0.000000\n",
              "..        ...           ...          ...  ...  ...       ...       ...\n",
              "128  0.823558   3227.865830  2580.529809  ...  0.0  0.823558  0.176442\n",
              "129  0.000000  11352.990282     0.000000  ...  0.0  0.374934  0.625066\n",
              "130  3.000000   3400.000000  2500.000000  ...  1.0  0.000000  0.000000\n",
              "131  0.000000   4333.000000  2451.000000  ...  0.0  0.000000  1.000000\n",
              "132  3.000000   4333.000000  1811.000000  ...  0.0  0.000000  1.000000\n",
              "\n",
              "[133 rows x 17 columns]"
            ]
          },
          "metadata": {
            "tags": []
          },
          "execution_count": 29
        }
      ]
    },
    {
      "cell_type": "code",
      "metadata": {
        "colab": {
          "base_uri": "https://localhost:8080/"
        },
        "id": "WpqeNqJAcl8S",
        "outputId": "2dadb0fa-99bb-4f44-9ca9-da2b5eb8d443"
      },
      "source": [
        "print(pd.DataFrame(y_test),pd.DataFrame(y_pred))"
      ],
      "execution_count": null,
      "outputs": [
        {
          "output_type": "stream",
          "text": [
            "     0\n",
            "0    1\n",
            "1    0\n",
            "2    1\n",
            "3    1\n",
            "4    1\n",
            "..  ..\n",
            "128  0\n",
            "129  0\n",
            "130  0\n",
            "131  0\n",
            "132  1\n",
            "\n",
            "[133 rows x 1 columns]             0\n",
            "0    0.860650\n",
            "1    0.003209\n",
            "2    0.463154\n",
            "3    0.845099\n",
            "4    0.993078\n",
            "..        ...\n",
            "128  0.841651\n",
            "129  0.012388\n",
            "130  0.027648\n",
            "131  0.814763\n",
            "132  0.002615\n",
            "\n",
            "[133 rows x 1 columns]\n"
          ],
          "name": "stdout"
        }
      ]
    },
    {
      "cell_type": "code",
      "metadata": {
        "id": "dYYMnuYqrMrN"
      },
      "source": [
        "sc=MinMaxScaler()\n",
        "X=sc.fit_transform(X1)"
      ],
      "execution_count": null,
      "outputs": []
    },
    {
      "cell_type": "code",
      "metadata": {
        "id": "p29jSoPM2DoO"
      },
      "source": [
        "X_train,X_test,y_train,y_test=train_test_split(X,y,test_size=0.2,random_state=42,shuffle=True)"
      ],
      "execution_count": null,
      "outputs": []
    },
    {
      "cell_type": "code",
      "metadata": {
        "colab": {
          "base_uri": "https://localhost:8080/"
        },
        "id": "YHFOJPvR2IBD",
        "outputId": "931fe028-e9db-4378-f6c2-7016812929e3"
      },
      "source": [
        "classifier=Sequential()\n",
        "classifier.add(Dense(200,activation='relu',kernel_initializer='random_normal',input_dim=X_test.shape[1]))\n",
        "classifier.add(Dense(400,activation='relu',kernel_initializer='random_normal'))\n",
        "classifier.add(Dense(5,activation='relu',kernel_initializer='random_normal'))\n",
        "classifier.add(Dense(1,activation='sigmoid',kernel_initializer='random_normal'))\n",
        "classifier.compile(optimizer='adam',loss='binary_crossentropy',metrics=['accuracy'])\n",
        "classifier.fit(X_train,y_train,batch_size=25,epochs=100,verbose=0)\n",
        "eval_model=classifier.evaluate(X_train,y_train)\n",
        "eval_model"
      ],
      "execution_count": null,
      "outputs": [
        {
          "output_type": "stream",
          "text": [
            "17/17 [==============================] - 1s 2ms/step - loss: 0.2564 - accuracy: 0.8945\n"
          ],
          "name": "stdout"
        },
        {
          "output_type": "execute_result",
          "data": {
            "text/plain": [
              "[0.256407767534256, 0.8945385813713074]"
            ]
          },
          "metadata": {
            "tags": []
          },
          "execution_count": 8
        }
      ]
    },
    {
      "cell_type": "code",
      "metadata": {
        "id": "NCtMwwmW4QFS"
      },
      "source": [
        "y_pred=classifier.predict(X_test)\n",
        "y_pred = (y_pred>0.53)"
      ],
      "execution_count": null,
      "outputs": []
    },
    {
      "cell_type": "code",
      "metadata": {
        "id": "tTbmOC4J43cn"
      },
      "source": [
        "cm=confusion_matrix(y_test,y_pred)\n",
        "ax=plt.subplot()\n",
        "sns.heatmap(cm,annot=True,ax=ax)\n",
        "\n",
        "ax.set_xlabel('Predicted')\n",
        "ax.set_ylabel('Actual')\n",
        "ax.set_title('Confusion matrix')\n",
        "ax.xaxis.set_ticklabels(['No','Yes'])\n",
        "ax.yaxis.set_ticklabels(['No','Yes'])"
      ],
      "execution_count": null,
      "outputs": []
    },
    {
      "cell_type": "code",
      "metadata": {
        "colab": {
          "base_uri": "https://localhost:8080/"
        },
        "id": "6vrDK0JR6MAe",
        "outputId": "c68b6d7a-bcb2-47e7-e2f1-6a59c0281fde"
      },
      "source": [
        "#k fold\n",
        "\n",
        "from sklearn.model_selection import StratifiedKFold\n",
        "kfold=StratifiedKFold(n_splits=3,shuffle=True,random_state=0)\n",
        "cvscores=[]\n",
        "\n",
        "for train,test in kfold.split(X,y):\n",
        "  model=Sequential()\n",
        "  model.add(Dense(200,input_dim=17,activation='relu'))\n",
        "  model.add(Dense(400,activation='relu'))\n",
        "  model.add(Dense(4,activation='relu'))\n",
        "  model.add(Dense(1,activation='sigmoid'))\n",
        "\n",
        "  model.compile(loss='binary_crossentropy',optimizer='adam',metrics=['accuracy'])\n",
        "\n",
        "  model.fit(X[train],y[train],epochs=100,verbose=0)\n",
        "\n",
        "  scores=model.evaluate(X[test],y[test],verbose=0)\n",
        "\n",
        "  print(\"%s: %.2f%%\" % (model.metrics_names[1],scores[1]*100))\n",
        "  cvscores.append(scores[1]*100)\n",
        "print(\"%.2f%% (+/- %.2f%%\" % (np.mean(cvscores),np.std(cvscores)))"
      ],
      "execution_count": null,
      "outputs": [
        {
          "output_type": "stream",
          "text": [
            "accuracy: 78.83%\n",
            "accuracy: 81.00%\n",
            "accuracy: 75.57%\n",
            "78.46% (+/- 2.23%\n"
          ],
          "name": "stdout"
        }
      ]
    },
    {
      "cell_type": "code",
      "metadata": {
        "id": "nNz7eX7satMy"
      },
      "source": [
        ""
      ],
      "execution_count": null,
      "outputs": []
    },
    {
      "cell_type": "code",
      "metadata": {
        "id": "Wj4i-n7R-tn3"
      },
      "source": [
        "#create pickle\n",
        "import pickle\n",
        "from sklearn.externals import joblib\n",
        "filename='loan_model.pkl'\n",
        "joblib.dump(classifier,filename)"
      ],
      "execution_count": null,
      "outputs": []
    },
    {
      "cell_type": "code",
      "metadata": {
        "id": "jetChk_oBvQY"
      },
      "source": [
        "from keras.models import load_model\n",
        "\n",
        "classifier.save('my_model.h5')  # creates a HDF5 file 'my_model.h5'\n"
      ],
      "execution_count": null,
      "outputs": []
    },
    {
      "cell_type": "code",
      "metadata": {
        "id": "pr-8njmK_R_7"
      },
      "source": [
        "sc1 = joblib.load('scalers.pkl')"
      ],
      "execution_count": null,
      "outputs": []
    },
    {
      "cell_type": "code",
      "metadata": {
        "id": "oXKBloAs03Eb"
      },
      "source": [
        "import joblib\n"
      ],
      "execution_count": null,
      "outputs": []
    },
    {
      "cell_type": "code",
      "metadata": {
        "id": "lGxhOzcl05gH"
      },
      "source": [
        "sc1"
      ],
      "execution_count": null,
      "outputs": []
    },
    {
      "cell_type": "code",
      "metadata": {
        "id": "OArVClX50-nK"
      },
      "source": [
        "joblib.dump(sc, 'scaler.pkl') \n"
      ],
      "execution_count": null,
      "outputs": []
    },
    {
      "cell_type": "code",
      "metadata": {
        "id": "UB7pF7Ag19CM"
      },
      "source": [
        "scq=joblib.load('scaler.pkl')"
      ],
      "execution_count": null,
      "outputs": []
    },
    {
      "cell_type": "code",
      "metadata": {
        "id": "CoV-jQ1A29OU"
      },
      "source": [
        ""
      ],
      "execution_count": null,
      "outputs": []
    }
  ]
}